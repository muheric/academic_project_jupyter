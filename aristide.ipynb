{
 "cells": [
  {
   "cell_type": "code",
   "execution_count": null,
   "id": "ba72767f-cc43-4a61-a8e0-b453e7c5d776",
   "metadata": {},
   "outputs": [],
   "source": [
    "import pandas as pd\n",
    "from matplotlib import pyplot as plt\n",
    "%matplotlib inline\n",
    "import seaborn as sns \n",
    "from datetime import date\n",
    "today=date.today()\n",
    "today=today.strftime(\"%b-%D-%Y\")\n",
    "graphique_name=f\"change_mon_nom_pour_sauvegarde.{today}\"\n",
    "#lecture du fichier excel et creation du data frame avec pandas pour avoir un object a utiliser\n",
    "data=pd.read_excel('aris.xlsx')\n",
    "df=pd.DataFrame(data)\n",
    "print(df)\n",
    "#ici le No. me gener bcp, j'ai renommer les titre du fichier excel, seulement No. change en Numero, le reste ne change pas\n",
    "df = df.rename(columns={'No.': 'Numero', 'VM': 'VM', 'BFD':'BFD','RFF':'RFF','MBFD':'MBFD','FFD':'FFD','GWOVMP':'GWOVMP'})\n",
    "# je cree le graphique\n",
    "#colors=[\"red\",\"green\", \"blue\"]\n",
    "fig = plt.figure(figsize=(12, 10))\n",
    "graph=df.plot(x='VM',y=[\"BFD\",\"RFF\",\"MBFD\",\"FFD\",\"GWOVMP\"],kind='bar', alpha=0.6)\n",
    "\n",
    "plt.title(\"Representation des MVs placees dans PMs infonuagique\")#titre du graphique en general\n",
    "plt.xlabel(\"Nombre de machines virtueles\")#abscice\n",
    "plt.ylabel(\"Nombre de PMs actives\")#ordonnees\n",
    "if os.path.isfile('./graph'):\n",
    "    fig.savefig(graph,dpi=200)\n",
    "else:\n",
    "    print(\"No file found, the type is {}\".format(type(graph)))\n",
    "#fig.savefig(graphique_name,dpi=200)#sauvegarder le graphique"
   ]
  }
 ],
 "metadata": {
  "kernelspec": {
   "display_name": "Python 3 (ipykernel)",
   "language": "python",
   "name": "python3"
  },
  "language_info": {
   "codemirror_mode": {
    "name": "ipython",
    "version": 3
   },
   "file_extension": ".py",
   "mimetype": "text/x-python",
   "name": "python",
   "nbconvert_exporter": "python",
   "pygments_lexer": "ipython3",
   "version": "3.11.5"
  }
 },
 "nbformat": 4,
 "nbformat_minor": 5
}
